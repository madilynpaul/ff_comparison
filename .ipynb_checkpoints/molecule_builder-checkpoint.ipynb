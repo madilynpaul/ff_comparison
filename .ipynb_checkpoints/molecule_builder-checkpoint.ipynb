{
 "cells": [
  {
   "cell_type": "code",
   "execution_count": 1,
   "id": "6f32201b",
   "metadata": {},
   "outputs": [
    {
     "name": "stderr",
     "output_type": "stream",
     "text": [
      "Warning: importing 'simtk.openmm' is deprecated.  Import 'openmm' instead.\n"
     ]
    }
   ],
   "source": [
    "import warnings\n",
    "warnings.filterwarnings('ignore')\n",
    "from mon_classes import P3HT, BDT_TPD, perylene\n",
    "from mbuild.lib.recipes import Polymer"
   ]
  },
  {
   "cell_type": "code",
   "execution_count": null,
   "id": "40fc63c5",
   "metadata": {},
   "outputs": [],
   "source": [
    "p3ht = P3HT()\n",
    "p3ht.visualize()"
   ]
  },
  {
   "cell_type": "code",
   "execution_count": null,
   "id": "bd2d8f35",
   "metadata": {},
   "outputs": [],
   "source": [
    "p3ht.save('mol2files/p3ht.mol2')"
   ]
  },
  {
   "cell_type": "code",
   "execution_count": null,
   "id": "277ea59e",
   "metadata": {},
   "outputs": [],
   "source": [
    "bdt_tpd = BDT_TPD()\n",
    "bdt_tpd.visualize()"
   ]
  },
  {
   "cell_type": "code",
   "execution_count": null,
   "id": "fead608f",
   "metadata": {},
   "outputs": [],
   "source": [
    "def build_chain(monomer, length, min_energy):\n",
    "    chain = Polymer()\n",
    "    chain.add_monomer(compound=monomer,\n",
    "                 indices=monomer.bond_indices,\n",
    "                 separation=monomer.separation,\n",
    "                 replace=monomer.replace,\n",
    "                 orientation=monomer.orientations)\n",
    "    chain.build(n=length)\n",
    "    if min_energy == True:\n",
    "        chain.energy_minimize()\n",
    "    return chain"
   ]
  },
  {
   "cell_type": "code",
   "execution_count": null,
   "id": "b96cc431",
   "metadata": {},
   "outputs": [],
   "source": [
    "chain = build_chain(monomer=bdt_tpd,length=5,min_energy=True)\n",
    "chain.visualize()"
   ]
  },
  {
   "cell_type": "code",
   "execution_count": null,
   "id": "ca5c378c",
   "metadata": {},
   "outputs": [],
   "source": [
    "chain.save('mol2files/bdt_tpd_5mer.mol2')"
   ]
  },
  {
   "cell_type": "code",
   "execution_count": 2,
   "id": "6f0f3871",
   "metadata": {},
   "outputs": [],
   "source": [
    "per = perylene()"
   ]
  },
  {
   "cell_type": "code",
   "execution_count": 3,
   "id": "fbe90580",
   "metadata": {},
   "outputs": [
    {
     "data": {
      "application/3dmoljs_load.v0": "<div id=\"3dmolviewer_1693258005418298\"  style=\"position: relative; width: 640px; height: 480px\">\n        <p id=\"3dmolwarning_1693258005418298\" style=\"background-color:#ffcccc;color:black\">You appear to be running in JupyterLab (or JavaScript failed to load for some other reason).  You need to install the 3dmol extension: <br>\n        <tt>jupyter labextension install jupyterlab_3dmol</tt></p>\n        </div>\n<script>\n\nvar loadScriptAsync = function(uri){\n  return new Promise((resolve, reject) => {\n    //this is to ignore the existence of requirejs amd\n    var savedexports, savedmodule;\n    if (typeof exports !== 'undefined') savedexports = exports;\n    else exports = {}\n    if (typeof module !== 'undefined') savedmodule = module;\n    else module = {}\n\n    var tag = document.createElement('script');\n    tag.src = uri;\n    tag.async = true;\n    tag.onload = () => {\n        exports = savedexports;\n        module = savedmodule;\n        resolve();\n    };\n  var firstScriptTag = document.getElementsByTagName('script')[0];\n  firstScriptTag.parentNode.insertBefore(tag, firstScriptTag);\n});\n};\n\nif(typeof $3Dmolpromise === 'undefined') {\n$3Dmolpromise = null;\n  $3Dmolpromise = loadScriptAsync('https://cdnjs.cloudflare.com/ajax/libs/3Dmol/2.0.1/3Dmol-min.js');\n}\n\nvar viewer_1693258005418298 = null;\nvar warn = document.getElementById(\"3dmolwarning_1693258005418298\");\nif(warn) {\n    warn.parentNode.removeChild(warn);\n}\n$3Dmolpromise.then(function() {\nviewer_1693258005418298 = $3Dmol.createViewer(document.getElementById(\"3dmolviewer_1693258005418298\"),{backgroundColor:\"white\"});\nviewer_1693258005418298.zoomTo();\n\tviewer_1693258005418298.addModel(\"@<TRIPOS>MOLECULE\\nperylene\\n32 36 1 0 1\\nSMALL\\nNO_CHARGES\\n@<TRIPOS>CRYSIN\\n   14.3308    11.8735     5.5873    90.0000    90.0000    90.0000  1  1\\n@<TRIPOS>ATOM\\n       1 C            2.9396    -2.3111     0.0185 C             1 perylene\\n       2 C            3.5818    -1.0870    -0.0848 C             1 perylene\\n       3 C            2.8365     0.0905    -0.1884 C             1 perylene\\n       4 C            3.5053     1.3132    -0.2915 C             1 perylene\\n       5 C            2.7865     2.4938    -0.3954 C             1 perylene\\n       6 C            1.3947     2.4742    -0.3982 C             1 perylene\\n       7 C            0.6726     1.2564    -0.2957 C             1 perylene\\n       8 C           -0.7513     1.2110    -0.2965 C             1 perylene\\n       9 C           -1.5495     2.3802    -0.3996 C             1 perylene\\n      10 C           -2.9397     2.3111    -0.3982 C             1 perylene\\n      11 C           -3.5818     1.0870    -0.2949 C             1 perylene\\n      12 C           -2.8365    -0.0905    -0.1912 C             1 perylene\\n      13 C           -3.5053    -1.3132    -0.0882 C             1 perylene\\n      14 C           -2.7865    -2.4938     0.0157 C             1 perylene\\n      15 C           -1.3947    -2.4742     0.0185 C             1 perylene\\n      16 C           -0.6726    -1.2564    -0.0839 C             1 perylene\\n      17 C            0.7512    -1.2110    -0.0832 C             1 perylene\\n      18 C            1.5495    -2.3802     0.0200 C             1 perylene\\n      19 C            1.4129     0.0451    -0.1891 C             1 perylene\\n      20 C           -1.4129    -0.0451    -0.1905 C             1 perylene\\n      21 H            3.5250    -3.2185     0.0984 H             1 perylene\\n      22 H            4.6654    -1.0608    -0.0835 H             1 perylene\\n      23 H            4.5884     1.3561    -0.2916 H             1 perylene\\n      24 H            3.3129     3.4367    -0.4749 H             1 perylene\\n      25 H            0.9207     3.4360    -0.4824 H             1 perylene\\n      26 H           -1.1377     3.3703    -0.4835 H             1 perylene\\n      27 H           -3.5250     3.2185    -0.4781 H             1 perylene\\n      28 H           -4.6654     1.0608    -0.2961 H             1 perylene\\n      29 H           -4.5884    -1.3561    -0.0880 H             1 perylene\\n      30 H           -3.3129    -3.4367     0.0952 H             1 perylene\\n      31 H           -0.9207    -3.4360     0.1028 H             1 perylene\\n      32 H            1.1377    -3.3703     0.1038 H             1 perylene\\n@<TRIPOS>BOND\\n       1        2        1 1\\n       2       18        1 1\\n       3       21        1 1\\n       4        3        2 1\\n       5       22        2 1\\n       6        4        3 1\\n       7       19        3 1\\n       8        5        4 1\\n       9       23        4 1\\n      10        6        5 1\\n      11       24        5 1\\n      12        7        6 1\\n      13       25        6 1\\n      14        8        7 1\\n      15       19        7 1\\n      16        9        8 1\\n      17       20        8 1\\n      18       10        9 1\\n      19       26        9 1\\n      20       11       10 1\\n      21       27       10 1\\n      22       12       11 1\\n      23       28       11 1\\n      24       13       12 1\\n      25       20       12 1\\n      26       14       13 1\\n      27       29       13 1\\n      28       15       14 1\\n      29       30       14 1\\n      30       16       15 1\\n      31       31       15 1\\n      32       17       16 1\\n      33       20       16 1\\n      34       18       17 1\\n      35       19       17 1\\n      36       32       18 1\\n@<TRIPOS>SUBSTRUCTURE\\n       1 perylene        1 RESIDUE    0 **** ROOT      0\\n\",\"mol2\");\n\tviewer_1693258005418298.setStyle({\"stick\": {\"radius\": 0.2, \"color\": \"grey\"}, \"sphere\": {\"scale\": 0.3, \"colorscheme\": {}}});\n\tviewer_1693258005418298.zoomTo();\nviewer_1693258005418298.render();\n});\n</script>",
      "text/html": [
       "<div id=\"3dmolviewer_1693258005418298\"  style=\"position: relative; width: 640px; height: 480px\">\n",
       "        <p id=\"3dmolwarning_1693258005418298\" style=\"background-color:#ffcccc;color:black\">You appear to be running in JupyterLab (or JavaScript failed to load for some other reason).  You need to install the 3dmol extension: <br>\n",
       "        <tt>jupyter labextension install jupyterlab_3dmol</tt></p>\n",
       "        </div>\n",
       "<script>\n",
       "\n",
       "var loadScriptAsync = function(uri){\n",
       "  return new Promise((resolve, reject) => {\n",
       "    //this is to ignore the existence of requirejs amd\n",
       "    var savedexports, savedmodule;\n",
       "    if (typeof exports !== 'undefined') savedexports = exports;\n",
       "    else exports = {}\n",
       "    if (typeof module !== 'undefined') savedmodule = module;\n",
       "    else module = {}\n",
       "\n",
       "    var tag = document.createElement('script');\n",
       "    tag.src = uri;\n",
       "    tag.async = true;\n",
       "    tag.onload = () => {\n",
       "        exports = savedexports;\n",
       "        module = savedmodule;\n",
       "        resolve();\n",
       "    };\n",
       "  var firstScriptTag = document.getElementsByTagName('script')[0];\n",
       "  firstScriptTag.parentNode.insertBefore(tag, firstScriptTag);\n",
       "});\n",
       "};\n",
       "\n",
       "if(typeof $3Dmolpromise === 'undefined') {\n",
       "$3Dmolpromise = null;\n",
       "  $3Dmolpromise = loadScriptAsync('https://cdnjs.cloudflare.com/ajax/libs/3Dmol/2.0.1/3Dmol-min.js');\n",
       "}\n",
       "\n",
       "var viewer_1693258005418298 = null;\n",
       "var warn = document.getElementById(\"3dmolwarning_1693258005418298\");\n",
       "if(warn) {\n",
       "    warn.parentNode.removeChild(warn);\n",
       "}\n",
       "$3Dmolpromise.then(function() {\n",
       "viewer_1693258005418298 = $3Dmol.createViewer(document.getElementById(\"3dmolviewer_1693258005418298\"),{backgroundColor:\"white\"});\n",
       "viewer_1693258005418298.zoomTo();\n",
       "\tviewer_1693258005418298.addModel(\"@<TRIPOS>MOLECULE\\nperylene\\n32 36 1 0 1\\nSMALL\\nNO_CHARGES\\n@<TRIPOS>CRYSIN\\n   14.3308    11.8735     5.5873    90.0000    90.0000    90.0000  1  1\\n@<TRIPOS>ATOM\\n       1 C            2.9396    -2.3111     0.0185 C             1 perylene\\n       2 C            3.5818    -1.0870    -0.0848 C             1 perylene\\n       3 C            2.8365     0.0905    -0.1884 C             1 perylene\\n       4 C            3.5053     1.3132    -0.2915 C             1 perylene\\n       5 C            2.7865     2.4938    -0.3954 C             1 perylene\\n       6 C            1.3947     2.4742    -0.3982 C             1 perylene\\n       7 C            0.6726     1.2564    -0.2957 C             1 perylene\\n       8 C           -0.7513     1.2110    -0.2965 C             1 perylene\\n       9 C           -1.5495     2.3802    -0.3996 C             1 perylene\\n      10 C           -2.9397     2.3111    -0.3982 C             1 perylene\\n      11 C           -3.5818     1.0870    -0.2949 C             1 perylene\\n      12 C           -2.8365    -0.0905    -0.1912 C             1 perylene\\n      13 C           -3.5053    -1.3132    -0.0882 C             1 perylene\\n      14 C           -2.7865    -2.4938     0.0157 C             1 perylene\\n      15 C           -1.3947    -2.4742     0.0185 C             1 perylene\\n      16 C           -0.6726    -1.2564    -0.0839 C             1 perylene\\n      17 C            0.7512    -1.2110    -0.0832 C             1 perylene\\n      18 C            1.5495    -2.3802     0.0200 C             1 perylene\\n      19 C            1.4129     0.0451    -0.1891 C             1 perylene\\n      20 C           -1.4129    -0.0451    -0.1905 C             1 perylene\\n      21 H            3.5250    -3.2185     0.0984 H             1 perylene\\n      22 H            4.6654    -1.0608    -0.0835 H             1 perylene\\n      23 H            4.5884     1.3561    -0.2916 H             1 perylene\\n      24 H            3.3129     3.4367    -0.4749 H             1 perylene\\n      25 H            0.9207     3.4360    -0.4824 H             1 perylene\\n      26 H           -1.1377     3.3703    -0.4835 H             1 perylene\\n      27 H           -3.5250     3.2185    -0.4781 H             1 perylene\\n      28 H           -4.6654     1.0608    -0.2961 H             1 perylene\\n      29 H           -4.5884    -1.3561    -0.0880 H             1 perylene\\n      30 H           -3.3129    -3.4367     0.0952 H             1 perylene\\n      31 H           -0.9207    -3.4360     0.1028 H             1 perylene\\n      32 H            1.1377    -3.3703     0.1038 H             1 perylene\\n@<TRIPOS>BOND\\n       1        2        1 1\\n       2       18        1 1\\n       3       21        1 1\\n       4        3        2 1\\n       5       22        2 1\\n       6        4        3 1\\n       7       19        3 1\\n       8        5        4 1\\n       9       23        4 1\\n      10        6        5 1\\n      11       24        5 1\\n      12        7        6 1\\n      13       25        6 1\\n      14        8        7 1\\n      15       19        7 1\\n      16        9        8 1\\n      17       20        8 1\\n      18       10        9 1\\n      19       26        9 1\\n      20       11       10 1\\n      21       27       10 1\\n      22       12       11 1\\n      23       28       11 1\\n      24       13       12 1\\n      25       20       12 1\\n      26       14       13 1\\n      27       29       13 1\\n      28       15       14 1\\n      29       30       14 1\\n      30       16       15 1\\n      31       31       15 1\\n      32       17       16 1\\n      33       20       16 1\\n      34       18       17 1\\n      35       19       17 1\\n      36       32       18 1\\n@<TRIPOS>SUBSTRUCTURE\\n       1 perylene        1 RESIDUE    0 **** ROOT      0\\n\",\"mol2\");\n",
       "\tviewer_1693258005418298.setStyle({\"stick\": {\"radius\": 0.2, \"color\": \"grey\"}, \"sphere\": {\"scale\": 0.3, \"colorscheme\": {}}});\n",
       "\tviewer_1693258005418298.zoomTo();\n",
       "viewer_1693258005418298.render();\n",
       "});\n",
       "</script>"
      ]
     },
     "metadata": {},
     "output_type": "display_data"
    },
    {
     "data": {
      "text/plain": [
       "<py3Dmol.view at 0x14371cd00>"
      ]
     },
     "execution_count": 3,
     "metadata": {},
     "output_type": "execute_result"
    }
   ],
   "source": [
    "per.visualize()"
   ]
  },
  {
   "cell_type": "code",
   "execution_count": 4,
   "id": "a9a1dd29",
   "metadata": {},
   "outputs": [],
   "source": [
    "per.save('mol2files/perylene.mol2')"
   ]
  },
  {
   "cell_type": "code",
   "execution_count": null,
   "id": "0dc43e5e",
   "metadata": {},
   "outputs": [],
   "source": []
  }
 ],
 "metadata": {
  "kernelspec": {
   "display_name": "Python 3 (ipykernel)",
   "language": "python",
   "name": "python3"
  },
  "language_info": {
   "codemirror_mode": {
    "name": "ipython",
    "version": 3
   },
   "file_extension": ".py",
   "mimetype": "text/x-python",
   "name": "python",
   "nbconvert_exporter": "python",
   "pygments_lexer": "ipython3",
   "version": "3.9.16"
  }
 },
 "nbformat": 4,
 "nbformat_minor": 5
}
