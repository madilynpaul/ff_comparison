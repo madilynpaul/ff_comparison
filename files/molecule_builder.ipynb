{
 "cells": [
  {
   "cell_type": "code",
   "execution_count": 1,
   "id": "6f32201b",
   "metadata": {},
   "outputs": [
    {
     "name": "stderr",
     "output_type": "stream",
     "text": [
      "Warning: importing 'simtk.openmm' is deprecated.  Import 'openmm' instead.\n"
     ]
    }
   ],
   "source": [
    "import warnings\n",
    "warnings.filterwarnings('ignore')\n",
    "from mon_classes import P3HT, BDT_TPD, perylene\n",
    "from mbuild.lib.recipes import Polymer"
   ]
  },
  {
   "cell_type": "code",
   "execution_count": null,
   "id": "40fc63c5",
   "metadata": {},
   "outputs": [],
   "source": [
    "p3ht = P3HT()\n",
    "p3ht.visualize()"
   ]
  },
  {
   "cell_type": "code",
   "execution_count": null,
   "id": "bd2d8f35",
   "metadata": {},
   "outputs": [],
   "source": [
    "p3ht.save('mol2files/p3ht.mol2')"
   ]
  },
  {
   "cell_type": "code",
   "execution_count": 2,
   "id": "277ea59e",
   "metadata": {},
   "outputs": [
    {
     "data": {
      "application/3dmoljs_load.v0": "<div id=\"3dmolviewer_16941082074893272\"  style=\"position: relative; width: 640px; height: 480px\">\n        <p id=\"3dmolwarning_16941082074893272\" style=\"background-color:#ffcccc;color:black\">You appear to be running in JupyterLab (or JavaScript failed to load for some other reason).  You need to install the 3dmol extension: <br>\n        <tt>jupyter labextension install jupyterlab_3dmol</tt></p>\n        </div>\n<script>\n\nvar loadScriptAsync = function(uri){\n  return new Promise((resolve, reject) => {\n    //this is to ignore the existence of requirejs amd\n    var savedexports, savedmodule;\n    if (typeof exports !== 'undefined') savedexports = exports;\n    else exports = {}\n    if (typeof module !== 'undefined') savedmodule = module;\n    else module = {}\n\n    var tag = document.createElement('script');\n    tag.src = uri;\n    tag.async = true;\n    tag.onload = () => {\n        exports = savedexports;\n        module = savedmodule;\n        resolve();\n    };\n  var firstScriptTag = document.getElementsByTagName('script')[0];\n  firstScriptTag.parentNode.insertBefore(tag, firstScriptTag);\n});\n};\n\nif(typeof $3Dmolpromise === 'undefined') {\n$3Dmolpromise = null;\n  $3Dmolpromise = loadScriptAsync('https://cdnjs.cloudflare.com/ajax/libs/3Dmol/2.0.1/3Dmol-min.js');\n}\n\nvar viewer_16941082074893272 = null;\nvar warn = document.getElementById(\"3dmolwarning_16941082074893272\");\nif(warn) {\n    warn.parentNode.removeChild(warn);\n}\n$3Dmolpromise.then(function() {\nviewer_16941082074893272 = $3Dmol.createViewer(document.getElementById(\"3dmolviewer_16941082074893272\"),{backgroundColor:\"white\"});\nviewer_16941082074893272.zoomTo();\n\tviewer_16941082074893272.addModel(\"@<TRIPOS>MOLECULE\\nBDT_TPD\\n101 105 1 0 1\\nSMALL\\nNO_CHARGES\\n@<TRIPOS>CRYSIN\\n   23.6976    12.8662    17.2451    90.0000    90.0000    90.0000  1  1\\n@<TRIPOS>ATOM\\n       1 C            3.7439    -0.0687    -1.2928 C             1 BDT_TPD \\n       2 O            3.5871    -0.0991    -2.5419 O             1 BDT_TPD \\n       3 C            4.8200     0.6054    -0.5829 C             1 BDT_TPD \\n       4 C            5.9280     1.3505    -0.9388 C             1 BDT_TPD \\n       5 S            6.6205     1.8112     0.5411 S             1 BDT_TPD \\n       6 C            5.5155     1.0717     1.5965 C             1 BDT_TPD \\n       7 C            4.6012     0.4575     0.7621 C             1 BDT_TPD \\n       8 C            3.3808    -0.3142     0.9393 C             1 BDT_TPD \\n       9 O            2.8416    -0.6029     2.0402 O             1 BDT_TPD \\n      10 N            2.8519    -0.6728    -0.3452 N             1 BDT_TPD \\n      11 C            1.5000    -1.1528    -0.6170 C             1 BDT_TPD \\n      12 C            0.5132     0.0212    -0.6262 C             1 BDT_TPD \\n      13 C           -0.9052    -0.3994    -1.0398 C             1 BDT_TPD \\n      14 C           -1.5946    -1.2794     0.0178 C             1 BDT_TPD \\n      15 C           -3.0874    -1.5090    -0.3002 C             1 BDT_TPD \\n      16 C           -4.0373    -0.6503     0.5522 C             1 BDT_TPD \\n      17 C           -3.9242     0.8490     0.2456 C             1 BDT_TPD \\n      18 C           -4.9910     1.6450     0.9918 C             1 BDT_TPD \\n      19 H            1.4852    -1.6701    -1.6007 H             1 BDT_TPD \\n      20 H            1.2153    -1.8885     0.1643 H             1 BDT_TPD \\n      21 H            0.4879     0.4999     0.3771 H             1 BDT_TPD \\n      22 H            0.8734     0.7828    -1.3519 H             1 BDT_TPD \\n      23 H           -0.8678    -0.9410    -2.0105 H             1 BDT_TPD \\n      24 H           -1.4993     0.5240    -1.2017 H             1 BDT_TPD \\n      25 H           -1.4736    -0.8328     1.0292 H             1 BDT_TPD \\n      26 H           -1.0885    -2.2686     0.0349 H             1 BDT_TPD \\n      27 H           -3.2993    -1.3503    -1.3807 H             1 BDT_TPD \\n      28 H           -3.3274    -2.5741    -0.0879 H             1 BDT_TPD \\n      29 H           -5.0778    -0.9839     0.3446 H             1 BDT_TPD \\n      30 H           -3.8367    -0.8299     1.6313 H             1 BDT_TPD \\n      31 H           -4.0455     1.0216    -0.8460 H             1 BDT_TPD \\n      32 H           -2.9266     1.2234     0.5593 H             1 BDT_TPD \\n      33 H           -4.8834     1.5007     2.0881 H             1 BDT_TPD \\n      34 H           -4.8766     2.7255     0.7628 H             1 BDT_TPD \\n      35 H           -6.0059     1.3215     0.6766 H             1 BDT_TPD \\n      36 S            6.7075     0.9561     4.1892 S             1 BDT_TPD \\n      37 C            5.9359     1.6901     5.4915 C             1 BDT_TPD \\n      38 C            6.4496     2.0163     6.7603 C             1 BDT_TPD \\n      39 O            7.7905     1.8295     7.1158 O             1 BDT_TPD \\n      40 C            8.8804     2.3533     6.3606 C             1 BDT_TPD \\n      41 C           10.2021     2.1968     7.1409 C             1 BDT_TPD \\n      42 C           10.1633     2.9431     8.4973 C             1 BDT_TPD \\n      43 C            9.9712     4.4542     8.3563 C             1 BDT_TPD \\n      44 C           10.5596     0.7076     7.3919 C             1 BDT_TPD \\n      45 C           10.6815    -0.1727     6.1330 C             1 BDT_TPD \\n      46 C           11.7235     0.3470     5.1311 C             1 BDT_TPD \\n      47 C           11.9573    -0.6587     4.0079 C             1 BDT_TPD \\n      48 C            5.5441     2.5372     7.6979 C             1 BDT_TPD \\n      49 C            5.8680     2.9301     9.0047 C             1 BDT_TPD \\n      50 C            4.7844     3.4500     9.7033 C             1 BDT_TPD \\n      51 S            3.4318     3.4235     8.6994 S             1 BDT_TPD \\n      52 C            4.1986     2.7396     7.3653 C             1 BDT_TPD \\n      53 C            3.6831     2.4167     6.0884 C             1 BDT_TPD \\n      54 O            2.3414     2.5739     5.7052 O             1 BDT_TPD \\n      55 C            1.2246     2.6110     6.5890 C             1 BDT_TPD \\n      56 C           -0.0795     2.3254     5.8138 C             1 BDT_TPD \\n      57 C           -0.4822     3.5753     4.9928 C             1 BDT_TPD \\n      58 C           -1.8914     3.4835     4.4054 C             1 BDT_TPD \\n      59 C            0.0350     1.0696     4.9069 C             1 BDT_TPD \\n      60 C            0.4584    -0.1993     5.6700 C             1 BDT_TPD \\n      61 C            0.5283    -1.4374     4.7619 C             1 BDT_TPD \\n      62 C           -0.8510    -1.9576     4.3563 C             1 BDT_TPD \\n      63 C            4.5933     1.8890     5.1567 C             1 BDT_TPD \\n      64 C            4.2726     1.4616     3.8596 C             1 BDT_TPD \\n      65 C            5.3571     0.9132     3.1807 C             1 BDT_TPD \\n      66 H            8.6965     3.4247     6.1355 H             1 BDT_TPD \\n      67 H            8.9636     1.8455     5.3833 H             1 BDT_TPD \\n      68 H           11.0148     2.6539     6.5358 H             1 BDT_TPD \\n      69 H           11.1271     2.7767     9.0271 H             1 BDT_TPD \\n      70 H            9.3561     2.5320     9.1413 H             1 BDT_TPD \\n      71 H           10.1456     4.9406     9.3401 H             1 BDT_TPD \\n      72 H           10.6925     4.8739     7.6223 H             1 BDT_TPD \\n      73 H            8.9333     4.6909     8.0418 H             1 BDT_TPD \\n      74 H            9.7916     0.2541     8.0562 H             1 BDT_TPD \\n      75 H           11.5274     0.6570     7.9381 H             1 BDT_TPD \\n      76 H            9.6938    -0.2784     5.6365 H             1 BDT_TPD \\n      77 H           10.9821    -1.1912     6.4662 H             1 BDT_TPD \\n      78 H           12.6868     0.5359     5.6517 H             1 BDT_TPD \\n      79 H           11.3726     1.2977     4.6774 H             1 BDT_TPD \\n      80 H           11.0064    -0.8648     3.4712 H             1 BDT_TPD \\n      81 H           12.6917    -0.2441     3.2841 H             1 BDT_TPD \\n      82 H           12.3617    -1.6085     4.4176 H             1 BDT_TPD \\n      83 H            6.8585     2.8508     9.4319 H             1 BDT_TPD \\n      84 H            1.3473     1.8497     7.3888 H             1 BDT_TPD \\n      85 H            1.1659     3.6058     7.0783 H             1 BDT_TPD \\n      86 H           -0.8758     2.1396     6.5692 H             1 BDT_TPD \\n      87 H            0.2468     3.7475     4.1708 H             1 BDT_TPD \\n      88 H           -0.4600     4.4696     5.6535 H             1 BDT_TPD \\n      89 H           -2.1941     4.4794     4.0159 H             1 BDT_TPD \\n      90 H           -2.6206     3.1759     5.1851 H             1 BDT_TPD \\n      91 H           -1.9218     2.7638     3.5608 H             1 BDT_TPD \\n      92 H            0.7569     1.2616     4.0833 H             1 BDT_TPD \\n      93 H           -0.9554     0.8805     4.4477 H             1 BDT_TPD \\n      94 H           -0.2391    -0.3868     6.5157 H             1 BDT_TPD \\n      95 H            1.4752    -0.0510     6.0900 H             1 BDT_TPD \\n      96 H            1.0535    -2.2470     5.3141 H             1 BDT_TPD \\n      97 H            1.1259    -1.2111     3.8520 H             1 BDT_TPD \\n      98 H           -0.7366    -2.9255     3.8234 H             1 BDT_TPD \\n      99 H           -1.4850    -2.1240     5.2532 H             1 BDT_TPD \\n     100 H           -1.3558    -1.2457     3.6711 H             1 BDT_TPD \\n     101 H            3.2818     1.5283     3.4297 H             1 BDT_TPD \\n@<TRIPOS>BOND\\n       1        2        1 1\\n       2        3        1 1\\n       3       10        1 1\\n       4        4        3 1\\n       5        7        3 1\\n       6        5        4 1\\n       7        6        5 1\\n       8        7        6 1\\n       9       65        6 1\\n      10        8        7 1\\n      11        9        8 1\\n      12       10        8 1\\n      13       11       10 1\\n      14       12       11 1\\n      15       19       11 1\\n      16       20       11 1\\n      17       13       12 1\\n      18       21       12 1\\n      19       22       12 1\\n      20       14       13 1\\n      21       23       13 1\\n      22       24       13 1\\n      23       15       14 1\\n      24       25       14 1\\n      25       26       14 1\\n      26       16       15 1\\n      27       27       15 1\\n      28       28       15 1\\n      29       17       16 1\\n      30       29       16 1\\n      31       30       16 1\\n      32       18       17 1\\n      33       31       17 1\\n      34       32       17 1\\n      35       33       18 1\\n      36       34       18 1\\n      37       35       18 1\\n      38       37       36 1\\n      39       65       36 1\\n      40       38       37 1\\n      41       63       37 1\\n      42       39       38 1\\n      43       48       38 1\\n      44       40       39 1\\n      45       41       40 1\\n      46       66       40 1\\n      47       67       40 1\\n      48       42       41 1\\n      49       44       41 1\\n      50       68       41 1\\n      51       43       42 1\\n      52       69       42 1\\n      53       70       42 1\\n      54       71       43 1\\n      55       72       43 1\\n      56       73       43 1\\n      57       45       44 1\\n      58       74       44 1\\n      59       75       44 1\\n      60       46       45 1\\n      61       76       45 1\\n      62       77       45 1\\n      63       47       46 1\\n      64       78       46 1\\n      65       79       46 1\\n      66       80       47 1\\n      67       81       47 1\\n      68       82       47 1\\n      69       49       48 1\\n      70       52       48 1\\n      71       50       49 1\\n      72       83       49 1\\n      73       51       50 1\\n      74       52       51 1\\n      75       53       52 1\\n      76       54       53 1\\n      77       63       53 1\\n      78       55       54 1\\n      79       56       55 1\\n      80       84       55 1\\n      81       85       55 1\\n      82       57       56 1\\n      83       59       56 1\\n      84       86       56 1\\n      85       58       57 1\\n      86       87       57 1\\n      87       88       57 1\\n      88       89       58 1\\n      89       90       58 1\\n      90       91       58 1\\n      91       60       59 1\\n      92       92       59 1\\n      93       93       59 1\\n      94       61       60 1\\n      95       94       60 1\\n      96       95       60 1\\n      97       62       61 1\\n      98       96       61 1\\n      99       97       61 1\\n     100       98       62 1\\n     101       99       62 1\\n     102      100       62 1\\n     103       64       63 1\\n     104       65       64 1\\n     105      101       64 1\\n@<TRIPOS>SUBSTRUCTURE\\n       1 BDT_TPD         1 RESIDUE    0 **** ROOT      0\\n\",\"mol2\");\n\tviewer_16941082074893272.setStyle({\"stick\": {\"radius\": 0.2, \"color\": \"grey\"}, \"sphere\": {\"scale\": 0.3, \"colorscheme\": {}}});\n\tviewer_16941082074893272.zoomTo();\nviewer_16941082074893272.render();\n});\n</script>",
      "text/html": [
       "<div id=\"3dmolviewer_16941082074893272\"  style=\"position: relative; width: 640px; height: 480px\">\n",
       "        <p id=\"3dmolwarning_16941082074893272\" style=\"background-color:#ffcccc;color:black\">You appear to be running in JupyterLab (or JavaScript failed to load for some other reason).  You need to install the 3dmol extension: <br>\n",
       "        <tt>jupyter labextension install jupyterlab_3dmol</tt></p>\n",
       "        </div>\n",
       "<script>\n",
       "\n",
       "var loadScriptAsync = function(uri){\n",
       "  return new Promise((resolve, reject) => {\n",
       "    //this is to ignore the existence of requirejs amd\n",
       "    var savedexports, savedmodule;\n",
       "    if (typeof exports !== 'undefined') savedexports = exports;\n",
       "    else exports = {}\n",
       "    if (typeof module !== 'undefined') savedmodule = module;\n",
       "    else module = {}\n",
       "\n",
       "    var tag = document.createElement('script');\n",
       "    tag.src = uri;\n",
       "    tag.async = true;\n",
       "    tag.onload = () => {\n",
       "        exports = savedexports;\n",
       "        module = savedmodule;\n",
       "        resolve();\n",
       "    };\n",
       "  var firstScriptTag = document.getElementsByTagName('script')[0];\n",
       "  firstScriptTag.parentNode.insertBefore(tag, firstScriptTag);\n",
       "});\n",
       "};\n",
       "\n",
       "if(typeof $3Dmolpromise === 'undefined') {\n",
       "$3Dmolpromise = null;\n",
       "  $3Dmolpromise = loadScriptAsync('https://cdnjs.cloudflare.com/ajax/libs/3Dmol/2.0.1/3Dmol-min.js');\n",
       "}\n",
       "\n",
       "var viewer_16941082074893272 = null;\n",
       "var warn = document.getElementById(\"3dmolwarning_16941082074893272\");\n",
       "if(warn) {\n",
       "    warn.parentNode.removeChild(warn);\n",
       "}\n",
       "$3Dmolpromise.then(function() {\n",
       "viewer_16941082074893272 = $3Dmol.createViewer(document.getElementById(\"3dmolviewer_16941082074893272\"),{backgroundColor:\"white\"});\n",
       "viewer_16941082074893272.zoomTo();\n",
       "\tviewer_16941082074893272.addModel(\"@<TRIPOS>MOLECULE\\nBDT_TPD\\n101 105 1 0 1\\nSMALL\\nNO_CHARGES\\n@<TRIPOS>CRYSIN\\n   23.6976    12.8662    17.2451    90.0000    90.0000    90.0000  1  1\\n@<TRIPOS>ATOM\\n       1 C            3.7439    -0.0687    -1.2928 C             1 BDT_TPD \\n       2 O            3.5871    -0.0991    -2.5419 O             1 BDT_TPD \\n       3 C            4.8200     0.6054    -0.5829 C             1 BDT_TPD \\n       4 C            5.9280     1.3505    -0.9388 C             1 BDT_TPD \\n       5 S            6.6205     1.8112     0.5411 S             1 BDT_TPD \\n       6 C            5.5155     1.0717     1.5965 C             1 BDT_TPD \\n       7 C            4.6012     0.4575     0.7621 C             1 BDT_TPD \\n       8 C            3.3808    -0.3142     0.9393 C             1 BDT_TPD \\n       9 O            2.8416    -0.6029     2.0402 O             1 BDT_TPD \\n      10 N            2.8519    -0.6728    -0.3452 N             1 BDT_TPD \\n      11 C            1.5000    -1.1528    -0.6170 C             1 BDT_TPD \\n      12 C            0.5132     0.0212    -0.6262 C             1 BDT_TPD \\n      13 C           -0.9052    -0.3994    -1.0398 C             1 BDT_TPD \\n      14 C           -1.5946    -1.2794     0.0178 C             1 BDT_TPD \\n      15 C           -3.0874    -1.5090    -0.3002 C             1 BDT_TPD \\n      16 C           -4.0373    -0.6503     0.5522 C             1 BDT_TPD \\n      17 C           -3.9242     0.8490     0.2456 C             1 BDT_TPD \\n      18 C           -4.9910     1.6450     0.9918 C             1 BDT_TPD \\n      19 H            1.4852    -1.6701    -1.6007 H             1 BDT_TPD \\n      20 H            1.2153    -1.8885     0.1643 H             1 BDT_TPD \\n      21 H            0.4879     0.4999     0.3771 H             1 BDT_TPD \\n      22 H            0.8734     0.7828    -1.3519 H             1 BDT_TPD \\n      23 H           -0.8678    -0.9410    -2.0105 H             1 BDT_TPD \\n      24 H           -1.4993     0.5240    -1.2017 H             1 BDT_TPD \\n      25 H           -1.4736    -0.8328     1.0292 H             1 BDT_TPD \\n      26 H           -1.0885    -2.2686     0.0349 H             1 BDT_TPD \\n      27 H           -3.2993    -1.3503    -1.3807 H             1 BDT_TPD \\n      28 H           -3.3274    -2.5741    -0.0879 H             1 BDT_TPD \\n      29 H           -5.0778    -0.9839     0.3446 H             1 BDT_TPD \\n      30 H           -3.8367    -0.8299     1.6313 H             1 BDT_TPD \\n      31 H           -4.0455     1.0216    -0.8460 H             1 BDT_TPD \\n      32 H           -2.9266     1.2234     0.5593 H             1 BDT_TPD \\n      33 H           -4.8834     1.5007     2.0881 H             1 BDT_TPD \\n      34 H           -4.8766     2.7255     0.7628 H             1 BDT_TPD \\n      35 H           -6.0059     1.3215     0.6766 H             1 BDT_TPD \\n      36 S            6.7075     0.9561     4.1892 S             1 BDT_TPD \\n      37 C            5.9359     1.6901     5.4915 C             1 BDT_TPD \\n      38 C            6.4496     2.0163     6.7603 C             1 BDT_TPD \\n      39 O            7.7905     1.8295     7.1158 O             1 BDT_TPD \\n      40 C            8.8804     2.3533     6.3606 C             1 BDT_TPD \\n      41 C           10.2021     2.1968     7.1409 C             1 BDT_TPD \\n      42 C           10.1633     2.9431     8.4973 C             1 BDT_TPD \\n      43 C            9.9712     4.4542     8.3563 C             1 BDT_TPD \\n      44 C           10.5596     0.7076     7.3919 C             1 BDT_TPD \\n      45 C           10.6815    -0.1727     6.1330 C             1 BDT_TPD \\n      46 C           11.7235     0.3470     5.1311 C             1 BDT_TPD \\n      47 C           11.9573    -0.6587     4.0079 C             1 BDT_TPD \\n      48 C            5.5441     2.5372     7.6979 C             1 BDT_TPD \\n      49 C            5.8680     2.9301     9.0047 C             1 BDT_TPD \\n      50 C            4.7844     3.4500     9.7033 C             1 BDT_TPD \\n      51 S            3.4318     3.4235     8.6994 S             1 BDT_TPD \\n      52 C            4.1986     2.7396     7.3653 C             1 BDT_TPD \\n      53 C            3.6831     2.4167     6.0884 C             1 BDT_TPD \\n      54 O            2.3414     2.5739     5.7052 O             1 BDT_TPD \\n      55 C            1.2246     2.6110     6.5890 C             1 BDT_TPD \\n      56 C           -0.0795     2.3254     5.8138 C             1 BDT_TPD \\n      57 C           -0.4822     3.5753     4.9928 C             1 BDT_TPD \\n      58 C           -1.8914     3.4835     4.4054 C             1 BDT_TPD \\n      59 C            0.0350     1.0696     4.9069 C             1 BDT_TPD \\n      60 C            0.4584    -0.1993     5.6700 C             1 BDT_TPD \\n      61 C            0.5283    -1.4374     4.7619 C             1 BDT_TPD \\n      62 C           -0.8510    -1.9576     4.3563 C             1 BDT_TPD \\n      63 C            4.5933     1.8890     5.1567 C             1 BDT_TPD \\n      64 C            4.2726     1.4616     3.8596 C             1 BDT_TPD \\n      65 C            5.3571     0.9132     3.1807 C             1 BDT_TPD \\n      66 H            8.6965     3.4247     6.1355 H             1 BDT_TPD \\n      67 H            8.9636     1.8455     5.3833 H             1 BDT_TPD \\n      68 H           11.0148     2.6539     6.5358 H             1 BDT_TPD \\n      69 H           11.1271     2.7767     9.0271 H             1 BDT_TPD \\n      70 H            9.3561     2.5320     9.1413 H             1 BDT_TPD \\n      71 H           10.1456     4.9406     9.3401 H             1 BDT_TPD \\n      72 H           10.6925     4.8739     7.6223 H             1 BDT_TPD \\n      73 H            8.9333     4.6909     8.0418 H             1 BDT_TPD \\n      74 H            9.7916     0.2541     8.0562 H             1 BDT_TPD \\n      75 H           11.5274     0.6570     7.9381 H             1 BDT_TPD \\n      76 H            9.6938    -0.2784     5.6365 H             1 BDT_TPD \\n      77 H           10.9821    -1.1912     6.4662 H             1 BDT_TPD \\n      78 H           12.6868     0.5359     5.6517 H             1 BDT_TPD \\n      79 H           11.3726     1.2977     4.6774 H             1 BDT_TPD \\n      80 H           11.0064    -0.8648     3.4712 H             1 BDT_TPD \\n      81 H           12.6917    -0.2441     3.2841 H             1 BDT_TPD \\n      82 H           12.3617    -1.6085     4.4176 H             1 BDT_TPD \\n      83 H            6.8585     2.8508     9.4319 H             1 BDT_TPD \\n      84 H            1.3473     1.8497     7.3888 H             1 BDT_TPD \\n      85 H            1.1659     3.6058     7.0783 H             1 BDT_TPD \\n      86 H           -0.8758     2.1396     6.5692 H             1 BDT_TPD \\n      87 H            0.2468     3.7475     4.1708 H             1 BDT_TPD \\n      88 H           -0.4600     4.4696     5.6535 H             1 BDT_TPD \\n      89 H           -2.1941     4.4794     4.0159 H             1 BDT_TPD \\n      90 H           -2.6206     3.1759     5.1851 H             1 BDT_TPD \\n      91 H           -1.9218     2.7638     3.5608 H             1 BDT_TPD \\n      92 H            0.7569     1.2616     4.0833 H             1 BDT_TPD \\n      93 H           -0.9554     0.8805     4.4477 H             1 BDT_TPD \\n      94 H           -0.2391    -0.3868     6.5157 H             1 BDT_TPD \\n      95 H            1.4752    -0.0510     6.0900 H             1 BDT_TPD \\n      96 H            1.0535    -2.2470     5.3141 H             1 BDT_TPD \\n      97 H            1.1259    -1.2111     3.8520 H             1 BDT_TPD \\n      98 H           -0.7366    -2.9255     3.8234 H             1 BDT_TPD \\n      99 H           -1.4850    -2.1240     5.2532 H             1 BDT_TPD \\n     100 H           -1.3558    -1.2457     3.6711 H             1 BDT_TPD \\n     101 H            3.2818     1.5283     3.4297 H             1 BDT_TPD \\n@<TRIPOS>BOND\\n       1        2        1 1\\n       2        3        1 1\\n       3       10        1 1\\n       4        4        3 1\\n       5        7        3 1\\n       6        5        4 1\\n       7        6        5 1\\n       8        7        6 1\\n       9       65        6 1\\n      10        8        7 1\\n      11        9        8 1\\n      12       10        8 1\\n      13       11       10 1\\n      14       12       11 1\\n      15       19       11 1\\n      16       20       11 1\\n      17       13       12 1\\n      18       21       12 1\\n      19       22       12 1\\n      20       14       13 1\\n      21       23       13 1\\n      22       24       13 1\\n      23       15       14 1\\n      24       25       14 1\\n      25       26       14 1\\n      26       16       15 1\\n      27       27       15 1\\n      28       28       15 1\\n      29       17       16 1\\n      30       29       16 1\\n      31       30       16 1\\n      32       18       17 1\\n      33       31       17 1\\n      34       32       17 1\\n      35       33       18 1\\n      36       34       18 1\\n      37       35       18 1\\n      38       37       36 1\\n      39       65       36 1\\n      40       38       37 1\\n      41       63       37 1\\n      42       39       38 1\\n      43       48       38 1\\n      44       40       39 1\\n      45       41       40 1\\n      46       66       40 1\\n      47       67       40 1\\n      48       42       41 1\\n      49       44       41 1\\n      50       68       41 1\\n      51       43       42 1\\n      52       69       42 1\\n      53       70       42 1\\n      54       71       43 1\\n      55       72       43 1\\n      56       73       43 1\\n      57       45       44 1\\n      58       74       44 1\\n      59       75       44 1\\n      60       46       45 1\\n      61       76       45 1\\n      62       77       45 1\\n      63       47       46 1\\n      64       78       46 1\\n      65       79       46 1\\n      66       80       47 1\\n      67       81       47 1\\n      68       82       47 1\\n      69       49       48 1\\n      70       52       48 1\\n      71       50       49 1\\n      72       83       49 1\\n      73       51       50 1\\n      74       52       51 1\\n      75       53       52 1\\n      76       54       53 1\\n      77       63       53 1\\n      78       55       54 1\\n      79       56       55 1\\n      80       84       55 1\\n      81       85       55 1\\n      82       57       56 1\\n      83       59       56 1\\n      84       86       56 1\\n      85       58       57 1\\n      86       87       57 1\\n      87       88       57 1\\n      88       89       58 1\\n      89       90       58 1\\n      90       91       58 1\\n      91       60       59 1\\n      92       92       59 1\\n      93       93       59 1\\n      94       61       60 1\\n      95       94       60 1\\n      96       95       60 1\\n      97       62       61 1\\n      98       96       61 1\\n      99       97       61 1\\n     100       98       62 1\\n     101       99       62 1\\n     102      100       62 1\\n     103       64       63 1\\n     104       65       64 1\\n     105      101       64 1\\n@<TRIPOS>SUBSTRUCTURE\\n       1 BDT_TPD         1 RESIDUE    0 **** ROOT      0\\n\",\"mol2\");\n",
       "\tviewer_16941082074893272.setStyle({\"stick\": {\"radius\": 0.2, \"color\": \"grey\"}, \"sphere\": {\"scale\": 0.3, \"colorscheme\": {}}});\n",
       "\tviewer_16941082074893272.zoomTo();\n",
       "viewer_16941082074893272.render();\n",
       "});\n",
       "</script>"
      ]
     },
     "metadata": {},
     "output_type": "display_data"
    },
    {
     "data": {
      "text/plain": [
       "<py3Dmol.view at 0x14225a490>"
      ]
     },
     "execution_count": 2,
     "metadata": {},
     "output_type": "execute_result"
    }
   ],
   "source": [
    "bdt_tpd = BDT_TPD()\n",
    "bdt_tpd.visualize()"
   ]
  },
  {
   "cell_type": "code",
   "execution_count": 3,
   "id": "fead608f",
   "metadata": {},
   "outputs": [],
   "source": [
    "def build_chain(monomer, length, min_energy):\n",
    "    chain = Polymer()\n",
    "    chain.add_monomer(compound=monomer,\n",
    "                 indices=monomer.bond_indices,\n",
    "                 separation=monomer.separation,\n",
    "                 replace=monomer.replace,\n",
    "                 orientation=monomer.orientations)\n",
    "    chain.build(n=length)\n",
    "    if min_energy == True:\n",
    "        chain.energy_minimize()\n",
    "    return chain"
   ]
  },
  {
   "cell_type": "code",
   "execution_count": 4,
   "id": "b96cc431",
   "metadata": {},
   "outputs": [
    {
     "data": {
      "application/3dmoljs_load.v0": "<div id=\"3dmolviewer_1694108219968917\"  style=\"position: relative; width: 640px; height: 480px\">\n        <p id=\"3dmolwarning_1694108219968917\" style=\"background-color:#ffcccc;color:black\">You appear to be running in JupyterLab (or JavaScript failed to load for some other reason).  You need to install the 3dmol extension: <br>\n        <tt>jupyter labextension install jupyterlab_3dmol</tt></p>\n        </div>\n<script>\n\nvar loadScriptAsync = function(uri){\n  return new Promise((resolve, reject) => {\n    //this is to ignore the existence of requirejs amd\n    var savedexports, savedmodule;\n    if (typeof exports !== 'undefined') savedexports = exports;\n    else exports = {}\n    if (typeof module !== 'undefined') savedmodule = module;\n    else module = {}\n\n    var tag = document.createElement('script');\n    tag.src = uri;\n    tag.async = true;\n    tag.onload = () => {\n        exports = savedexports;\n        module = savedmodule;\n        resolve();\n    };\n  var firstScriptTag = document.getElementsByTagName('script')[0];\n  firstScriptTag.parentNode.insertBefore(tag, firstScriptTag);\n});\n};\n\nif(typeof $3Dmolpromise === 'undefined') {\n$3Dmolpromise = null;\n  $3Dmolpromise = loadScriptAsync('https://cdnjs.cloudflare.com/ajax/libs/3Dmol/2.0.1/3Dmol-min.js');\n}\n\nvar viewer_1694108219968917 = null;\nvar warn = document.getElementById(\"3dmolwarning_1694108219968917\");\nif(warn) {\n    warn.parentNode.removeChild(warn);\n}\n$3Dmolpromise.then(function() {\nviewer_1694108219968917 = $3Dmol.createViewer(document.getElementById(\"3dmolviewer_1694108219968917\"),{backgroundColor:\"white\"});\nviewer_1694108219968917.zoomTo();\n\tviewer_1694108219968917.addModel(\"@<TRIPOS>MOLECULE\\nPolymer\\n103 107 1 0 1\\nSMALL\\nNO_CHARGES\\n@<TRIPOS>CRYSIN\\n   23.8263    12.9459    17.7667    90.0000    90.0000    90.0000  1  1\\n@<TRIPOS>ATOM\\n       1 C            3.3661     0.4671    -0.9629 C             1 Polymer \\n       2 O            3.0219     0.8173    -2.0815 O             1 Polymer \\n       3 C            4.6089     0.8289    -0.2946 C             1 Polymer \\n       4 C            5.7661     1.6145    -0.6264 C             1 Polymer \\n       5 S            6.9730     1.5172     0.6980 S             1 Polymer \\n       6 C            5.8550     0.4255     1.6980 C             1 Polymer \\n       7 C            4.6293     0.2381     0.8687 C             1 Polymer \\n       8 C            3.3861    -0.5315     0.9789 C             1 Polymer \\n       9 O            3.0518    -1.2305     1.9238 O             1 Polymer \\n      10 N            2.6581    -0.3571    -0.1538 N             1 Polymer \\n      11 C            1.3658    -0.9514    -0.4537 C             1 Polymer \\n      12 C            0.3075     0.1500    -0.5882 C             1 Polymer \\n      13 C           -1.0933    -0.3569    -0.9490 C             1 Polymer \\n      14 C           -1.6600    -1.3447     0.0903 C             1 Polymer \\n      15 C           -3.1530    -1.6557    -0.1198 C             1 Polymer \\n      16 C           -4.1260    -0.6839     0.5875 C             1 Polymer \\n      17 C           -4.0105     0.7922     0.1905 C             1 Polymer \\n      18 C           -5.0634     1.6371     0.9009 C             1 Polymer \\n      19 H            1.4401    -1.5401    -1.3940 H             1 Polymer \\n      20 H            1.0727    -1.6394     0.3666 H             1 Polymer \\n      21 H            0.2540     0.7118     0.3694 H             1 Polymer \\n      22 H            0.6111     0.8609    -1.3860 H             1 Polymer \\n      23 H           -1.0846    -0.8454    -1.9484 H             1 Polymer \\n      24 H           -1.7199     0.5430    -1.0468 H             1 Polymer \\n      25 H           -1.5066    -0.9954     1.1331 H             1 Polymer \\n      26 H           -1.0908    -2.2901    -0.0427 H             1 Polymer \\n      27 H           -3.3754    -1.7577    -1.2047 H             1 Polymer \\n      28 H           -3.3548    -2.6436     0.3497 H             1 Polymer \\n      29 H           -5.1582    -1.0356     0.3693 H             1 Polymer \\n      30 H           -3.9635    -0.7599     1.6857 H             1 Polymer \\n      31 H           -4.1400     0.9004    -0.9081 H             1 Polymer \\n      32 H           -3.0226     1.1868     0.5040 H             1 Polymer \\n      33 H           -4.9402     1.5583     2.0026 H             1 Polymer \\n      34 H           -4.9439     2.7016     0.6076 H             1 Polymer \\n      35 H           -6.0837     1.3010     0.6204 H             1 Polymer \\n      36 S            6.9581     1.2053     4.1060 S             1 Polymer \\n      37 C            6.0932     1.8042     5.4052 C             1 Polymer \\n      38 C            6.5618     2.1685     6.6790 C             1 Polymer \\n      39 O            7.8640     2.1275     7.0692 O             1 Polymer \\n      40 C            8.9732     2.4702     6.3185 C             1 Polymer \\n      41 C           10.2631     2.2601     7.1394 C             1 Polymer \\n      42 C           10.2311     3.0262     8.4868 C             1 Polymer \\n      43 C           10.0492     4.5366     8.3344 C             1 Polymer \\n      44 C           10.5325     0.7557     7.4253 C             1 Polymer \\n      45 C           10.6557    -0.1569     6.1850 C             1 Polymer \\n      46 C           11.7738     0.2756     5.2236 C             1 Polymer \\n      47 C           11.8986    -0.6943     4.0518 C             1 Polymer \\n      48 C            5.6008     2.5803     7.6064 C             1 Polymer \\n      49 C            5.9058     2.9853     8.9694 C             1 Polymer \\n      50 C            4.7757     3.3528     9.6577 C             1 Polymer \\n      51 S            3.2664     3.2290     8.7022 S             1 Polymer \\n      52 C            4.2416     2.6512     7.2949 C             1 Polymer \\n      53 C            3.7692     2.2892     5.9927 C             1 Polymer \\n      54 O            2.4574     2.3027     5.6122 O             1 Polymer \\n      55 C            1.3564     2.4501     6.4374 C             1 Polymer \\n      56 C            0.0298     2.2457     5.6750 C             1 Polymer \\n      57 C           -0.2748     3.4894     4.8030 C             1 Polymer \\n      58 C           -1.6766     3.4711     4.1859 C             1 Polymer \\n      59 C            0.0313     0.9390     4.8363 C             1 Polymer \\n      60 C            0.3731    -0.3240     5.6507 C             1 Polymer \\n      61 C            0.3982    -1.5995     4.7940 C             1 Polymer \\n      62 C           -0.9718    -1.9857     4.2385 C             1 Polymer \\n      63 C            4.7381     1.8558     5.0567 C             1 Polymer \\n      64 C            4.4877     1.4114     3.7340 C             1 Polymer \\n      65 C            5.6566     1.0035     3.0722 C             1 Polymer \\n      66 H            8.8838     3.5340     6.0155 H             1 Polymer \\n      67 H            9.0573     1.8903     5.3905 H             1 Polymer \\n      68 H           11.1137     2.6582     6.5465 H             1 Polymer \\n      69 H           11.1955     2.8561     9.0138 H             1 Polymer \\n      70 H            9.4162     2.6318     9.1322 H             1 Polymer \\n      71 H           10.0879     5.0126     9.3368 H             1 Polymer \\n      72 H           10.8593     4.9610     7.7051 H             1 Polymer \\n      73 H            9.0634     4.7786     7.8873 H             1 Polymer \\n      74 H            9.7172     0.3511     8.0646 H             1 Polymer \\n      75 H           11.4825     0.6727     7.9981 H             1 Polymer \\n      76 H            9.6896    -0.2032     5.6405 H             1 Polymer \\n      77 H           10.8738    -1.1857     6.5467 H             1 Polymer \\n      78 H           12.7426     0.3096     5.7674 H             1 Polymer \\n      79 H           11.5562     1.2826     4.8107 H             1 Polymer \\n      80 H           10.9475    -0.7319     3.4786 H             1 Polymer \\n      81 H           12.7088    -0.3544     3.3725 H             1 Polymer \\n      82 H           12.1460    -1.7134     4.4177 H             1 Polymer \\n      83 H            6.8993     3.0038     9.3974 H             1 Polymer \\n      84 H            1.4124     1.6837     7.2395 H             1 Polymer \\n      85 H            1.3448     3.4524     6.9125 H             1 Polymer \\n      86 H           -0.7699     2.1845     6.4479 H             1 Polymer \\n      87 H            0.4876     3.5984     4.0019 H             1 Polymer \\n      88 H           -0.2288     4.3936     5.4500 H             1 Polymer \\n      89 H           -1.8518     4.4221     3.6405 H             1 Polymer \\n      90 H           -2.4457     3.3788     4.9834 H             1 Polymer \\n      91 H           -1.7957     2.6412     3.4617 H             1 Polymer \\n      92 H            0.7695     1.0370     4.0100 H             1 Polymer \\n      93 H           -0.9746     0.8095     4.3958 H             1 Polymer \\n      94 H           -0.3454    -0.4465     6.4902 H             1 Polymer \\n      95 H            1.3937    -0.2175     6.0733 H             1 Polymer \\n      96 H            0.7533    -2.4368     5.4329 H             1 Polymer \\n      97 H            1.1197    -1.4743     3.9577 H             1 Polymer \\n      98 H           -0.8810    -2.9332     3.6673 H             1 Polymer \\n      99 H           -1.6913    -2.1383     5.0705 H             1 Polymer \\n     100 H           -1.3639    -1.2112     3.5510 H             1 Polymer \\n     101 H            3.5011     1.3697     3.2911 H             1 Polymer \\n     102 H            5.9129     2.1327    -1.5640 H             1 Polymer \\n     103 H            4.7962     3.6901    10.6853 H             1 Polymer \\n@<TRIPOS>BOND\\n       1        2        1 1\\n       2        3        1 1\\n       3       10        1 1\\n       4        4        3 1\\n       5        7        3 1\\n       6        5        4 1\\n       7      102        4 1\\n       8        6        5 1\\n       9        7        6 1\\n      10       65        6 1\\n      11        8        7 1\\n      12        9        8 1\\n      13       10        8 1\\n      14       11       10 1\\n      15       12       11 1\\n      16       19       11 1\\n      17       20       11 1\\n      18       13       12 1\\n      19       21       12 1\\n      20       22       12 1\\n      21       14       13 1\\n      22       23       13 1\\n      23       24       13 1\\n      24       15       14 1\\n      25       25       14 1\\n      26       26       14 1\\n      27       16       15 1\\n      28       27       15 1\\n      29       28       15 1\\n      30       17       16 1\\n      31       29       16 1\\n      32       30       16 1\\n      33       18       17 1\\n      34       31       17 1\\n      35       32       17 1\\n      36       33       18 1\\n      37       34       18 1\\n      38       35       18 1\\n      39       37       36 1\\n      40       65       36 1\\n      41       38       37 1\\n      42       63       37 1\\n      43       39       38 1\\n      44       48       38 1\\n      45       40       39 1\\n      46       41       40 1\\n      47       66       40 1\\n      48       67       40 1\\n      49       42       41 1\\n      50       44       41 1\\n      51       68       41 1\\n      52       43       42 1\\n      53       69       42 1\\n      54       70       42 1\\n      55       71       43 1\\n      56       72       43 1\\n      57       73       43 1\\n      58       45       44 1\\n      59       74       44 1\\n      60       75       44 1\\n      61       46       45 1\\n      62       76       45 1\\n      63       77       45 1\\n      64       47       46 1\\n      65       78       46 1\\n      66       79       46 1\\n      67       80       47 1\\n      68       81       47 1\\n      69       82       47 1\\n      70       49       48 1\\n      71       52       48 1\\n      72       50       49 1\\n      73       83       49 1\\n      74       51       50 1\\n      75      103       50 1\\n      76       52       51 1\\n      77       53       52 1\\n      78       54       53 1\\n      79       63       53 1\\n      80       55       54 1\\n      81       56       55 1\\n      82       84       55 1\\n      83       85       55 1\\n      84       57       56 1\\n      85       59       56 1\\n      86       86       56 1\\n      87       58       57 1\\n      88       87       57 1\\n      89       88       57 1\\n      90       89       58 1\\n      91       90       58 1\\n      92       91       58 1\\n      93       60       59 1\\n      94       92       59 1\\n      95       93       59 1\\n      96       61       60 1\\n      97       94       60 1\\n      98       95       60 1\\n      99       62       61 1\\n     100       96       61 1\\n     101       97       61 1\\n     102       98       62 1\\n     103       99       62 1\\n     104      100       62 1\\n     105       64       63 1\\n     106       65       64 1\\n     107      101       64 1\\n@<TRIPOS>SUBSTRUCTURE\\n       1 Polymer         1 RESIDUE    0 **** ROOT      0\\n\",\"mol2\");\n\tviewer_1694108219968917.setStyle({\"stick\": {\"radius\": 0.2, \"color\": \"grey\"}, \"sphere\": {\"scale\": 0.3, \"colorscheme\": {}}});\n\tviewer_1694108219968917.zoomTo();\nviewer_1694108219968917.render();\n});\n</script>",
      "text/html": [
       "<div id=\"3dmolviewer_1694108219968917\"  style=\"position: relative; width: 640px; height: 480px\">\n",
       "        <p id=\"3dmolwarning_1694108219968917\" style=\"background-color:#ffcccc;color:black\">You appear to be running in JupyterLab (or JavaScript failed to load for some other reason).  You need to install the 3dmol extension: <br>\n",
       "        <tt>jupyter labextension install jupyterlab_3dmol</tt></p>\n",
       "        </div>\n",
       "<script>\n",
       "\n",
       "var loadScriptAsync = function(uri){\n",
       "  return new Promise((resolve, reject) => {\n",
       "    //this is to ignore the existence of requirejs amd\n",
       "    var savedexports, savedmodule;\n",
       "    if (typeof exports !== 'undefined') savedexports = exports;\n",
       "    else exports = {}\n",
       "    if (typeof module !== 'undefined') savedmodule = module;\n",
       "    else module = {}\n",
       "\n",
       "    var tag = document.createElement('script');\n",
       "    tag.src = uri;\n",
       "    tag.async = true;\n",
       "    tag.onload = () => {\n",
       "        exports = savedexports;\n",
       "        module = savedmodule;\n",
       "        resolve();\n",
       "    };\n",
       "  var firstScriptTag = document.getElementsByTagName('script')[0];\n",
       "  firstScriptTag.parentNode.insertBefore(tag, firstScriptTag);\n",
       "});\n",
       "};\n",
       "\n",
       "if(typeof $3Dmolpromise === 'undefined') {\n",
       "$3Dmolpromise = null;\n",
       "  $3Dmolpromise = loadScriptAsync('https://cdnjs.cloudflare.com/ajax/libs/3Dmol/2.0.1/3Dmol-min.js');\n",
       "}\n",
       "\n",
       "var viewer_1694108219968917 = null;\n",
       "var warn = document.getElementById(\"3dmolwarning_1694108219968917\");\n",
       "if(warn) {\n",
       "    warn.parentNode.removeChild(warn);\n",
       "}\n",
       "$3Dmolpromise.then(function() {\n",
       "viewer_1694108219968917 = $3Dmol.createViewer(document.getElementById(\"3dmolviewer_1694108219968917\"),{backgroundColor:\"white\"});\n",
       "viewer_1694108219968917.zoomTo();\n",
       "\tviewer_1694108219968917.addModel(\"@<TRIPOS>MOLECULE\\nPolymer\\n103 107 1 0 1\\nSMALL\\nNO_CHARGES\\n@<TRIPOS>CRYSIN\\n   23.8263    12.9459    17.7667    90.0000    90.0000    90.0000  1  1\\n@<TRIPOS>ATOM\\n       1 C            3.3661     0.4671    -0.9629 C             1 Polymer \\n       2 O            3.0219     0.8173    -2.0815 O             1 Polymer \\n       3 C            4.6089     0.8289    -0.2946 C             1 Polymer \\n       4 C            5.7661     1.6145    -0.6264 C             1 Polymer \\n       5 S            6.9730     1.5172     0.6980 S             1 Polymer \\n       6 C            5.8550     0.4255     1.6980 C             1 Polymer \\n       7 C            4.6293     0.2381     0.8687 C             1 Polymer \\n       8 C            3.3861    -0.5315     0.9789 C             1 Polymer \\n       9 O            3.0518    -1.2305     1.9238 O             1 Polymer \\n      10 N            2.6581    -0.3571    -0.1538 N             1 Polymer \\n      11 C            1.3658    -0.9514    -0.4537 C             1 Polymer \\n      12 C            0.3075     0.1500    -0.5882 C             1 Polymer \\n      13 C           -1.0933    -0.3569    -0.9490 C             1 Polymer \\n      14 C           -1.6600    -1.3447     0.0903 C             1 Polymer \\n      15 C           -3.1530    -1.6557    -0.1198 C             1 Polymer \\n      16 C           -4.1260    -0.6839     0.5875 C             1 Polymer \\n      17 C           -4.0105     0.7922     0.1905 C             1 Polymer \\n      18 C           -5.0634     1.6371     0.9009 C             1 Polymer \\n      19 H            1.4401    -1.5401    -1.3940 H             1 Polymer \\n      20 H            1.0727    -1.6394     0.3666 H             1 Polymer \\n      21 H            0.2540     0.7118     0.3694 H             1 Polymer \\n      22 H            0.6111     0.8609    -1.3860 H             1 Polymer \\n      23 H           -1.0846    -0.8454    -1.9484 H             1 Polymer \\n      24 H           -1.7199     0.5430    -1.0468 H             1 Polymer \\n      25 H           -1.5066    -0.9954     1.1331 H             1 Polymer \\n      26 H           -1.0908    -2.2901    -0.0427 H             1 Polymer \\n      27 H           -3.3754    -1.7577    -1.2047 H             1 Polymer \\n      28 H           -3.3548    -2.6436     0.3497 H             1 Polymer \\n      29 H           -5.1582    -1.0356     0.3693 H             1 Polymer \\n      30 H           -3.9635    -0.7599     1.6857 H             1 Polymer \\n      31 H           -4.1400     0.9004    -0.9081 H             1 Polymer \\n      32 H           -3.0226     1.1868     0.5040 H             1 Polymer \\n      33 H           -4.9402     1.5583     2.0026 H             1 Polymer \\n      34 H           -4.9439     2.7016     0.6076 H             1 Polymer \\n      35 H           -6.0837     1.3010     0.6204 H             1 Polymer \\n      36 S            6.9581     1.2053     4.1060 S             1 Polymer \\n      37 C            6.0932     1.8042     5.4052 C             1 Polymer \\n      38 C            6.5618     2.1685     6.6790 C             1 Polymer \\n      39 O            7.8640     2.1275     7.0692 O             1 Polymer \\n      40 C            8.9732     2.4702     6.3185 C             1 Polymer \\n      41 C           10.2631     2.2601     7.1394 C             1 Polymer \\n      42 C           10.2311     3.0262     8.4868 C             1 Polymer \\n      43 C           10.0492     4.5366     8.3344 C             1 Polymer \\n      44 C           10.5325     0.7557     7.4253 C             1 Polymer \\n      45 C           10.6557    -0.1569     6.1850 C             1 Polymer \\n      46 C           11.7738     0.2756     5.2236 C             1 Polymer \\n      47 C           11.8986    -0.6943     4.0518 C             1 Polymer \\n      48 C            5.6008     2.5803     7.6064 C             1 Polymer \\n      49 C            5.9058     2.9853     8.9694 C             1 Polymer \\n      50 C            4.7757     3.3528     9.6577 C             1 Polymer \\n      51 S            3.2664     3.2290     8.7022 S             1 Polymer \\n      52 C            4.2416     2.6512     7.2949 C             1 Polymer \\n      53 C            3.7692     2.2892     5.9927 C             1 Polymer \\n      54 O            2.4574     2.3027     5.6122 O             1 Polymer \\n      55 C            1.3564     2.4501     6.4374 C             1 Polymer \\n      56 C            0.0298     2.2457     5.6750 C             1 Polymer \\n      57 C           -0.2748     3.4894     4.8030 C             1 Polymer \\n      58 C           -1.6766     3.4711     4.1859 C             1 Polymer \\n      59 C            0.0313     0.9390     4.8363 C             1 Polymer \\n      60 C            0.3731    -0.3240     5.6507 C             1 Polymer \\n      61 C            0.3982    -1.5995     4.7940 C             1 Polymer \\n      62 C           -0.9718    -1.9857     4.2385 C             1 Polymer \\n      63 C            4.7381     1.8558     5.0567 C             1 Polymer \\n      64 C            4.4877     1.4114     3.7340 C             1 Polymer \\n      65 C            5.6566     1.0035     3.0722 C             1 Polymer \\n      66 H            8.8838     3.5340     6.0155 H             1 Polymer \\n      67 H            9.0573     1.8903     5.3905 H             1 Polymer \\n      68 H           11.1137     2.6582     6.5465 H             1 Polymer \\n      69 H           11.1955     2.8561     9.0138 H             1 Polymer \\n      70 H            9.4162     2.6318     9.1322 H             1 Polymer \\n      71 H           10.0879     5.0126     9.3368 H             1 Polymer \\n      72 H           10.8593     4.9610     7.7051 H             1 Polymer \\n      73 H            9.0634     4.7786     7.8873 H             1 Polymer \\n      74 H            9.7172     0.3511     8.0646 H             1 Polymer \\n      75 H           11.4825     0.6727     7.9981 H             1 Polymer \\n      76 H            9.6896    -0.2032     5.6405 H             1 Polymer \\n      77 H           10.8738    -1.1857     6.5467 H             1 Polymer \\n      78 H           12.7426     0.3096     5.7674 H             1 Polymer \\n      79 H           11.5562     1.2826     4.8107 H             1 Polymer \\n      80 H           10.9475    -0.7319     3.4786 H             1 Polymer \\n      81 H           12.7088    -0.3544     3.3725 H             1 Polymer \\n      82 H           12.1460    -1.7134     4.4177 H             1 Polymer \\n      83 H            6.8993     3.0038     9.3974 H             1 Polymer \\n      84 H            1.4124     1.6837     7.2395 H             1 Polymer \\n      85 H            1.3448     3.4524     6.9125 H             1 Polymer \\n      86 H           -0.7699     2.1845     6.4479 H             1 Polymer \\n      87 H            0.4876     3.5984     4.0019 H             1 Polymer \\n      88 H           -0.2288     4.3936     5.4500 H             1 Polymer \\n      89 H           -1.8518     4.4221     3.6405 H             1 Polymer \\n      90 H           -2.4457     3.3788     4.9834 H             1 Polymer \\n      91 H           -1.7957     2.6412     3.4617 H             1 Polymer \\n      92 H            0.7695     1.0370     4.0100 H             1 Polymer \\n      93 H           -0.9746     0.8095     4.3958 H             1 Polymer \\n      94 H           -0.3454    -0.4465     6.4902 H             1 Polymer \\n      95 H            1.3937    -0.2175     6.0733 H             1 Polymer \\n      96 H            0.7533    -2.4368     5.4329 H             1 Polymer \\n      97 H            1.1197    -1.4743     3.9577 H             1 Polymer \\n      98 H           -0.8810    -2.9332     3.6673 H             1 Polymer \\n      99 H           -1.6913    -2.1383     5.0705 H             1 Polymer \\n     100 H           -1.3639    -1.2112     3.5510 H             1 Polymer \\n     101 H            3.5011     1.3697     3.2911 H             1 Polymer \\n     102 H            5.9129     2.1327    -1.5640 H             1 Polymer \\n     103 H            4.7962     3.6901    10.6853 H             1 Polymer \\n@<TRIPOS>BOND\\n       1        2        1 1\\n       2        3        1 1\\n       3       10        1 1\\n       4        4        3 1\\n       5        7        3 1\\n       6        5        4 1\\n       7      102        4 1\\n       8        6        5 1\\n       9        7        6 1\\n      10       65        6 1\\n      11        8        7 1\\n      12        9        8 1\\n      13       10        8 1\\n      14       11       10 1\\n      15       12       11 1\\n      16       19       11 1\\n      17       20       11 1\\n      18       13       12 1\\n      19       21       12 1\\n      20       22       12 1\\n      21       14       13 1\\n      22       23       13 1\\n      23       24       13 1\\n      24       15       14 1\\n      25       25       14 1\\n      26       26       14 1\\n      27       16       15 1\\n      28       27       15 1\\n      29       28       15 1\\n      30       17       16 1\\n      31       29       16 1\\n      32       30       16 1\\n      33       18       17 1\\n      34       31       17 1\\n      35       32       17 1\\n      36       33       18 1\\n      37       34       18 1\\n      38       35       18 1\\n      39       37       36 1\\n      40       65       36 1\\n      41       38       37 1\\n      42       63       37 1\\n      43       39       38 1\\n      44       48       38 1\\n      45       40       39 1\\n      46       41       40 1\\n      47       66       40 1\\n      48       67       40 1\\n      49       42       41 1\\n      50       44       41 1\\n      51       68       41 1\\n      52       43       42 1\\n      53       69       42 1\\n      54       70       42 1\\n      55       71       43 1\\n      56       72       43 1\\n      57       73       43 1\\n      58       45       44 1\\n      59       74       44 1\\n      60       75       44 1\\n      61       46       45 1\\n      62       76       45 1\\n      63       77       45 1\\n      64       47       46 1\\n      65       78       46 1\\n      66       79       46 1\\n      67       80       47 1\\n      68       81       47 1\\n      69       82       47 1\\n      70       49       48 1\\n      71       52       48 1\\n      72       50       49 1\\n      73       83       49 1\\n      74       51       50 1\\n      75      103       50 1\\n      76       52       51 1\\n      77       53       52 1\\n      78       54       53 1\\n      79       63       53 1\\n      80       55       54 1\\n      81       56       55 1\\n      82       84       55 1\\n      83       85       55 1\\n      84       57       56 1\\n      85       59       56 1\\n      86       86       56 1\\n      87       58       57 1\\n      88       87       57 1\\n      89       88       57 1\\n      90       89       58 1\\n      91       90       58 1\\n      92       91       58 1\\n      93       60       59 1\\n      94       92       59 1\\n      95       93       59 1\\n      96       61       60 1\\n      97       94       60 1\\n      98       95       60 1\\n      99       62       61 1\\n     100       96       61 1\\n     101       97       61 1\\n     102       98       62 1\\n     103       99       62 1\\n     104      100       62 1\\n     105       64       63 1\\n     106       65       64 1\\n     107      101       64 1\\n@<TRIPOS>SUBSTRUCTURE\\n       1 Polymer         1 RESIDUE    0 **** ROOT      0\\n\",\"mol2\");\n",
       "\tviewer_1694108219968917.setStyle({\"stick\": {\"radius\": 0.2, \"color\": \"grey\"}, \"sphere\": {\"scale\": 0.3, \"colorscheme\": {}}});\n",
       "\tviewer_1694108219968917.zoomTo();\n",
       "viewer_1694108219968917.render();\n",
       "});\n",
       "</script>"
      ]
     },
     "metadata": {},
     "output_type": "display_data"
    },
    {
     "data": {
      "text/plain": [
       "<py3Dmol.view at 0x142ff35e0>"
      ]
     },
     "execution_count": 4,
     "metadata": {},
     "output_type": "execute_result"
    }
   ],
   "source": [
    "chain = build_chain(monomer=bdt_tpd,length=1,min_energy=True)\n",
    "chain.visualize()"
   ]
  },
  {
   "cell_type": "code",
   "execution_count": null,
   "id": "4c020ac8",
   "metadata": {},
   "outputs": [],
   "source": []
  },
  {
   "cell_type": "code",
   "execution_count": 5,
   "id": "ca5c378c",
   "metadata": {},
   "outputs": [],
   "source": [
    "chain.save('mol2files/bdt_tpd_mon.mol2')"
   ]
  },
  {
   "cell_type": "code",
   "execution_count": 2,
   "id": "6f0f3871",
   "metadata": {},
   "outputs": [],
   "source": [
    "per = perylene()"
   ]
  },
  {
   "cell_type": "code",
   "execution_count": 3,
   "id": "fbe90580",
   "metadata": {},
   "outputs": [
    {
     "data": {
      "application/3dmoljs_load.v0": "<div id=\"3dmolviewer_1693258005418298\"  style=\"position: relative; width: 640px; height: 480px\">\n        <p id=\"3dmolwarning_1693258005418298\" style=\"background-color:#ffcccc;color:black\">You appear to be running in JupyterLab (or JavaScript failed to load for some other reason).  You need to install the 3dmol extension: <br>\n        <tt>jupyter labextension install jupyterlab_3dmol</tt></p>\n        </div>\n<script>\n\nvar loadScriptAsync = function(uri){\n  return new Promise((resolve, reject) => {\n    //this is to ignore the existence of requirejs amd\n    var savedexports, savedmodule;\n    if (typeof exports !== 'undefined') savedexports = exports;\n    else exports = {}\n    if (typeof module !== 'undefined') savedmodule = module;\n    else module = {}\n\n    var tag = document.createElement('script');\n    tag.src = uri;\n    tag.async = true;\n    tag.onload = () => {\n        exports = savedexports;\n        module = savedmodule;\n        resolve();\n    };\n  var firstScriptTag = document.getElementsByTagName('script')[0];\n  firstScriptTag.parentNode.insertBefore(tag, firstScriptTag);\n});\n};\n\nif(typeof $3Dmolpromise === 'undefined') {\n$3Dmolpromise = null;\n  $3Dmolpromise = loadScriptAsync('https://cdnjs.cloudflare.com/ajax/libs/3Dmol/2.0.1/3Dmol-min.js');\n}\n\nvar viewer_1693258005418298 = null;\nvar warn = document.getElementById(\"3dmolwarning_1693258005418298\");\nif(warn) {\n    warn.parentNode.removeChild(warn);\n}\n$3Dmolpromise.then(function() {\nviewer_1693258005418298 = $3Dmol.createViewer(document.getElementById(\"3dmolviewer_1693258005418298\"),{backgroundColor:\"white\"});\nviewer_1693258005418298.zoomTo();\n\tviewer_1693258005418298.addModel(\"@<TRIPOS>MOLECULE\\nperylene\\n32 36 1 0 1\\nSMALL\\nNO_CHARGES\\n@<TRIPOS>CRYSIN\\n   14.3308    11.8735     5.5873    90.0000    90.0000    90.0000  1  1\\n@<TRIPOS>ATOM\\n       1 C            2.9396    -2.3111     0.0185 C             1 perylene\\n       2 C            3.5818    -1.0870    -0.0848 C             1 perylene\\n       3 C            2.8365     0.0905    -0.1884 C             1 perylene\\n       4 C            3.5053     1.3132    -0.2915 C             1 perylene\\n       5 C            2.7865     2.4938    -0.3954 C             1 perylene\\n       6 C            1.3947     2.4742    -0.3982 C             1 perylene\\n       7 C            0.6726     1.2564    -0.2957 C             1 perylene\\n       8 C           -0.7513     1.2110    -0.2965 C             1 perylene\\n       9 C           -1.5495     2.3802    -0.3996 C             1 perylene\\n      10 C           -2.9397     2.3111    -0.3982 C             1 perylene\\n      11 C           -3.5818     1.0870    -0.2949 C             1 perylene\\n      12 C           -2.8365    -0.0905    -0.1912 C             1 perylene\\n      13 C           -3.5053    -1.3132    -0.0882 C             1 perylene\\n      14 C           -2.7865    -2.4938     0.0157 C             1 perylene\\n      15 C           -1.3947    -2.4742     0.0185 C             1 perylene\\n      16 C           -0.6726    -1.2564    -0.0839 C             1 perylene\\n      17 C            0.7512    -1.2110    -0.0832 C             1 perylene\\n      18 C            1.5495    -2.3802     0.0200 C             1 perylene\\n      19 C            1.4129     0.0451    -0.1891 C             1 perylene\\n      20 C           -1.4129    -0.0451    -0.1905 C             1 perylene\\n      21 H            3.5250    -3.2185     0.0984 H             1 perylene\\n      22 H            4.6654    -1.0608    -0.0835 H             1 perylene\\n      23 H            4.5884     1.3561    -0.2916 H             1 perylene\\n      24 H            3.3129     3.4367    -0.4749 H             1 perylene\\n      25 H            0.9207     3.4360    -0.4824 H             1 perylene\\n      26 H           -1.1377     3.3703    -0.4835 H             1 perylene\\n      27 H           -3.5250     3.2185    -0.4781 H             1 perylene\\n      28 H           -4.6654     1.0608    -0.2961 H             1 perylene\\n      29 H           -4.5884    -1.3561    -0.0880 H             1 perylene\\n      30 H           -3.3129    -3.4367     0.0952 H             1 perylene\\n      31 H           -0.9207    -3.4360     0.1028 H             1 perylene\\n      32 H            1.1377    -3.3703     0.1038 H             1 perylene\\n@<TRIPOS>BOND\\n       1        2        1 1\\n       2       18        1 1\\n       3       21        1 1\\n       4        3        2 1\\n       5       22        2 1\\n       6        4        3 1\\n       7       19        3 1\\n       8        5        4 1\\n       9       23        4 1\\n      10        6        5 1\\n      11       24        5 1\\n      12        7        6 1\\n      13       25        6 1\\n      14        8        7 1\\n      15       19        7 1\\n      16        9        8 1\\n      17       20        8 1\\n      18       10        9 1\\n      19       26        9 1\\n      20       11       10 1\\n      21       27       10 1\\n      22       12       11 1\\n      23       28       11 1\\n      24       13       12 1\\n      25       20       12 1\\n      26       14       13 1\\n      27       29       13 1\\n      28       15       14 1\\n      29       30       14 1\\n      30       16       15 1\\n      31       31       15 1\\n      32       17       16 1\\n      33       20       16 1\\n      34       18       17 1\\n      35       19       17 1\\n      36       32       18 1\\n@<TRIPOS>SUBSTRUCTURE\\n       1 perylene        1 RESIDUE    0 **** ROOT      0\\n\",\"mol2\");\n\tviewer_1693258005418298.setStyle({\"stick\": {\"radius\": 0.2, \"color\": \"grey\"}, \"sphere\": {\"scale\": 0.3, \"colorscheme\": {}}});\n\tviewer_1693258005418298.zoomTo();\nviewer_1693258005418298.render();\n});\n</script>",
      "text/html": [
       "<div id=\"3dmolviewer_1693258005418298\"  style=\"position: relative; width: 640px; height: 480px\">\n",
       "        <p id=\"3dmolwarning_1693258005418298\" style=\"background-color:#ffcccc;color:black\">You appear to be running in JupyterLab (or JavaScript failed to load for some other reason).  You need to install the 3dmol extension: <br>\n",
       "        <tt>jupyter labextension install jupyterlab_3dmol</tt></p>\n",
       "        </div>\n",
       "<script>\n",
       "\n",
       "var loadScriptAsync = function(uri){\n",
       "  return new Promise((resolve, reject) => {\n",
       "    //this is to ignore the existence of requirejs amd\n",
       "    var savedexports, savedmodule;\n",
       "    if (typeof exports !== 'undefined') savedexports = exports;\n",
       "    else exports = {}\n",
       "    if (typeof module !== 'undefined') savedmodule = module;\n",
       "    else module = {}\n",
       "\n",
       "    var tag = document.createElement('script');\n",
       "    tag.src = uri;\n",
       "    tag.async = true;\n",
       "    tag.onload = () => {\n",
       "        exports = savedexports;\n",
       "        module = savedmodule;\n",
       "        resolve();\n",
       "    };\n",
       "  var firstScriptTag = document.getElementsByTagName('script')[0];\n",
       "  firstScriptTag.parentNode.insertBefore(tag, firstScriptTag);\n",
       "});\n",
       "};\n",
       "\n",
       "if(typeof $3Dmolpromise === 'undefined') {\n",
       "$3Dmolpromise = null;\n",
       "  $3Dmolpromise = loadScriptAsync('https://cdnjs.cloudflare.com/ajax/libs/3Dmol/2.0.1/3Dmol-min.js');\n",
       "}\n",
       "\n",
       "var viewer_1693258005418298 = null;\n",
       "var warn = document.getElementById(\"3dmolwarning_1693258005418298\");\n",
       "if(warn) {\n",
       "    warn.parentNode.removeChild(warn);\n",
       "}\n",
       "$3Dmolpromise.then(function() {\n",
       "viewer_1693258005418298 = $3Dmol.createViewer(document.getElementById(\"3dmolviewer_1693258005418298\"),{backgroundColor:\"white\"});\n",
       "viewer_1693258005418298.zoomTo();\n",
       "\tviewer_1693258005418298.addModel(\"@<TRIPOS>MOLECULE\\nperylene\\n32 36 1 0 1\\nSMALL\\nNO_CHARGES\\n@<TRIPOS>CRYSIN\\n   14.3308    11.8735     5.5873    90.0000    90.0000    90.0000  1  1\\n@<TRIPOS>ATOM\\n       1 C            2.9396    -2.3111     0.0185 C             1 perylene\\n       2 C            3.5818    -1.0870    -0.0848 C             1 perylene\\n       3 C            2.8365     0.0905    -0.1884 C             1 perylene\\n       4 C            3.5053     1.3132    -0.2915 C             1 perylene\\n       5 C            2.7865     2.4938    -0.3954 C             1 perylene\\n       6 C            1.3947     2.4742    -0.3982 C             1 perylene\\n       7 C            0.6726     1.2564    -0.2957 C             1 perylene\\n       8 C           -0.7513     1.2110    -0.2965 C             1 perylene\\n       9 C           -1.5495     2.3802    -0.3996 C             1 perylene\\n      10 C           -2.9397     2.3111    -0.3982 C             1 perylene\\n      11 C           -3.5818     1.0870    -0.2949 C             1 perylene\\n      12 C           -2.8365    -0.0905    -0.1912 C             1 perylene\\n      13 C           -3.5053    -1.3132    -0.0882 C             1 perylene\\n      14 C           -2.7865    -2.4938     0.0157 C             1 perylene\\n      15 C           -1.3947    -2.4742     0.0185 C             1 perylene\\n      16 C           -0.6726    -1.2564    -0.0839 C             1 perylene\\n      17 C            0.7512    -1.2110    -0.0832 C             1 perylene\\n      18 C            1.5495    -2.3802     0.0200 C             1 perylene\\n      19 C            1.4129     0.0451    -0.1891 C             1 perylene\\n      20 C           -1.4129    -0.0451    -0.1905 C             1 perylene\\n      21 H            3.5250    -3.2185     0.0984 H             1 perylene\\n      22 H            4.6654    -1.0608    -0.0835 H             1 perylene\\n      23 H            4.5884     1.3561    -0.2916 H             1 perylene\\n      24 H            3.3129     3.4367    -0.4749 H             1 perylene\\n      25 H            0.9207     3.4360    -0.4824 H             1 perylene\\n      26 H           -1.1377     3.3703    -0.4835 H             1 perylene\\n      27 H           -3.5250     3.2185    -0.4781 H             1 perylene\\n      28 H           -4.6654     1.0608    -0.2961 H             1 perylene\\n      29 H           -4.5884    -1.3561    -0.0880 H             1 perylene\\n      30 H           -3.3129    -3.4367     0.0952 H             1 perylene\\n      31 H           -0.9207    -3.4360     0.1028 H             1 perylene\\n      32 H            1.1377    -3.3703     0.1038 H             1 perylene\\n@<TRIPOS>BOND\\n       1        2        1 1\\n       2       18        1 1\\n       3       21        1 1\\n       4        3        2 1\\n       5       22        2 1\\n       6        4        3 1\\n       7       19        3 1\\n       8        5        4 1\\n       9       23        4 1\\n      10        6        5 1\\n      11       24        5 1\\n      12        7        6 1\\n      13       25        6 1\\n      14        8        7 1\\n      15       19        7 1\\n      16        9        8 1\\n      17       20        8 1\\n      18       10        9 1\\n      19       26        9 1\\n      20       11       10 1\\n      21       27       10 1\\n      22       12       11 1\\n      23       28       11 1\\n      24       13       12 1\\n      25       20       12 1\\n      26       14       13 1\\n      27       29       13 1\\n      28       15       14 1\\n      29       30       14 1\\n      30       16       15 1\\n      31       31       15 1\\n      32       17       16 1\\n      33       20       16 1\\n      34       18       17 1\\n      35       19       17 1\\n      36       32       18 1\\n@<TRIPOS>SUBSTRUCTURE\\n       1 perylene        1 RESIDUE    0 **** ROOT      0\\n\",\"mol2\");\n",
       "\tviewer_1693258005418298.setStyle({\"stick\": {\"radius\": 0.2, \"color\": \"grey\"}, \"sphere\": {\"scale\": 0.3, \"colorscheme\": {}}});\n",
       "\tviewer_1693258005418298.zoomTo();\n",
       "viewer_1693258005418298.render();\n",
       "});\n",
       "</script>"
      ]
     },
     "metadata": {},
     "output_type": "display_data"
    },
    {
     "data": {
      "text/plain": [
       "<py3Dmol.view at 0x14371cd00>"
      ]
     },
     "execution_count": 3,
     "metadata": {},
     "output_type": "execute_result"
    }
   ],
   "source": [
    "per.visualize()"
   ]
  },
  {
   "cell_type": "code",
   "execution_count": 4,
   "id": "a9a1dd29",
   "metadata": {},
   "outputs": [],
   "source": [
    "per.save('mol2files/perylene.mol2')"
   ]
  },
  {
   "cell_type": "code",
   "execution_count": null,
   "id": "0dc43e5e",
   "metadata": {},
   "outputs": [],
   "source": []
  }
 ],
 "metadata": {
  "kernelspec": {
   "display_name": "Python 3 (ipykernel)",
   "language": "python",
   "name": "python3"
  },
  "language_info": {
   "codemirror_mode": {
    "name": "ipython",
    "version": 3
   },
   "file_extension": ".py",
   "mimetype": "text/x-python",
   "name": "python",
   "nbconvert_exporter": "python",
   "pygments_lexer": "ipython3",
   "version": "3.9.16"
  }
 },
 "nbformat": 4,
 "nbformat_minor": 5
}
